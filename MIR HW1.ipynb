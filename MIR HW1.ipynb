{
 "cells":[
  {
   "cell_type":"markdown",
   "source":[
    "<div dir=\"rtl\">\n",
    "\n",
    "<center>\n",
    "\n",
    "# تشخیص اعداد و یکاهای اندازه‌گیری در متن\n",
    "\n",
    "آرین احدی نیا، دانا افاضلی، محمد ابول‌نژادیان\n",
    "\n",
    "<br>\n",
    "\n",
    "بازیابی پیشرفته اطلاعات\n",
    "\n",
    "دانشکده مهندسی کامپیوتر، دانشگاه صنعتی شریف\n",
    "\n",
    "<\/center>\n",
    "\n",
    "<\/div>"
   ],
   "attachments":{
    
   },
   "metadata":{
    "datalore":{
     "type":"MD",
     "hide_input_from_viewers":false,
     "hide_output_from_viewers":false
    }
   }
  },
  {
   "cell_type":"markdown",
   "source":[
    "<div dir=\"rtl\">\n",
    "\n",
    "## مقدمه\n",
    "\n",
    "در این نوتبوک قصد داریم مسئله‌ی تشخیص واحدهای اندازه گیری را و همچنین مسئله تبدیل واحد را حل کنیم.\n",
    "\n",
    "ساختار پروژه به شکل زیر است:\n",
    "\n",
    "در کنار این نوتبوک ۲ پوشه قرار دارند که در پوشه ```resources``` فایل‌هایی که به عنوان دیتا یا مدل از قبل آماده شده هستند قرار دارند. مانند مدل \n",
    "```POSTagger```\n",
    "برای هضم و همچنین دیتای گرفته شده از سایت باحساب برای برخی از واحدها.\n",
    "\n",
    "\n",
    "همچنین در پوشه \n",
    "```src```\n",
    "، تمامی کدهای زده شده قرار دارد که به دلیل حجم زیاد و اینکه عملا در لایه نهایی استفاده نمیشوند از نوتبوک حذف شده اند. در ادامه و در قسمت مربوطه به توضیح آنها پرداخته میشود.\n",
    "\n",
    "در انتهای هر بخش تعدادی تست کیس نمونه قرار داده شده تا فانکشنالیتی آن قسمت برسی شود.\n",
    "\n",
    "در بخش اول قسمت اصلی یعنی پیدا کردن واحدها برسی میشود و در قسمت بعد تبدیل واحد برسی میشود.\n",
    "<\/div>"
   ],
   "attachments":{
    
   },
   "metadata":{
    "datalore":{
     "type":"MD",
     "hide_input_from_viewers":false,
     "hide_output_from_viewers":false
    }
   }
  },
  {
   "cell_type":"markdown",
   "source":[
    "<div dir=\"rtl\">\n",
    "\n",
    "## وابستگی‌ها\n",
    "\n",
    "<\/div>"
   ],
   "attachments":{
    
   },
   "metadata":{
    "datalore":{
     "type":"MD",
     "hide_input_from_viewers":false,
     "hide_output_from_viewers":false
    }
   }
  },
  {
   "cell_type":"code",
   "source":[
    "# nothing fancy\n",
    "%pip install hazm\n",
    "%pip install pandas"
   ],
   "execution_count":3,
   "outputs":[
    {
     "name":"stdout",
     "text":[
      "Collecting hazm\r\n",
      "  Downloading hazm-0.7.0-py3-none-any.whl (316 kB)\r\n",
      "\u001b[?25l\r\r     |█                               | 10 kB 25.8 MB\/s eta 0:00:01\r     |██                              | 20 kB 30.8 MB\/s eta 0:00:01\r     |███                             | 30 kB 33.8 MB\/s eta 0:00:01\r     |████▏                           | 40 kB 37.0 MB\/s eta 0:00:01\r     |█████▏                          | 51 kB 26.0 MB\/s eta 0:00:01\r     |██████▏                         | 61 kB 29.2 MB\/s eta 0:00:01\r     |███████▎                        | 71 kB 31.7 MB\/s eta 0:00:01\r     |████████▎                       | 81 kB 33.9 MB\/s eta 0:00:01\r     |█████████▎                      | 92 kB 36.2 MB\/s eta 0:00:01\r     |██████████▍                     | 102 kB 31.4 MB\/s eta 0:00:01\r     |███████████▍                    | 112 kB 31.4 MB\/s eta 0:00:01\r     |████████████▍                   | 122 kB 31.4 MB\/s eta 0:00:01\r     |█████████████▌                  | 133 kB 31.4 MB\/s eta 0:00:01\r     |██████████████▌                 | 143 kB 31.4 MB\/s eta 0:00:01\r     |███████████████▌                | 153 kB 31.4 MB\/s eta 0:00:01\r     |████████████████▋               | 163 kB 31.4 MB\/s eta 0:00:01\r     |█████████████████▋              | 174 kB 31.4 MB\/s eta 0:00:01\r     |██████████████████▋             | 184 kB 31.4 MB\/s eta 0:00:01\r     |███████████████████▋            | 194 kB 31.4 MB\/s eta 0:00:01\r     |████████████████████▊           | 204 kB 31.4 MB\/s eta 0:00:01\r     |█████████████████████▊          | 215 kB 31.4 MB\/s eta 0:00:01\r     |██████████████████████▊         | 225 kB 31.4 MB\/s eta 0:00:01\r     |███████████████████████▉        | 235 kB 31.4 MB\/s eta 0:00:01\r     |████████████████████████▉       | 245 kB 31.4 MB\/s eta 0:00:01\r     |█████████████████████████▉      | 256 kB 31.4 MB\/s eta 0:00:01\r     |███████████████████████████     | 266 kB 31.4 MB\/s eta 0:00:01\r     |████████████████████████████    | 276 kB 31.4 MB\/s eta 0:00:01\r     |█████████████████████████████   | 286 kB 31.4 MB\/s eta 0:00:01\r     |██████████████████████████████  | 296 kB 31.4 MB\/s eta 0:00:01\r     |███████████████████████████████ | 307 kB 31.4 MB\/s eta 0:00:01\r     |████████████████████████████████| 316 kB 31.4 MB\/s            \r\n",
      "\u001b[?25hCollecting nltk==3.3\r\n",
      "  Downloading nltk-3.3.0.zip (1.4 MB)\r\n",
      "\u001b[?25l\r\r     |▎                               | 10 kB 35.6 MB\/s eta 0:00:01\r     |▌                               | 20 kB 41.2 MB\/s eta 0:00:01\r     |▊                               | 30 kB 49.0 MB\/s eta 0:00:01\r     |█                               | 40 kB 53.3 MB\/s eta 0:00:01\r     |█▏                              | 51 kB 55.9 MB\/s eta 0:00:01\r     |█▍                              | 61 kB 58.0 MB\/s eta 0:00:01\r     |█▋                              | 71 kB 59.8 MB\/s eta 0:00:01\r     |█▉                              | 81 kB 62.0 MB\/s eta 0:00:01\r     |██▏                             | 92 kB 62.9 MB\/s eta 0:00:01\r     |██▍                             | 102 kB 63.8 MB\/s eta 0:00:01\r     |██▋                             | 112 kB 63.8 MB\/s eta 0:00:01\r     |██▉                             | 122 kB 63.8 MB\/s eta 0:00:01\r     |███                             | 133 kB 63.8 MB\/s eta 0:00:01\r     |███▎                            | 143 kB 63.8 MB\/s eta 0:00:01\r     |███▌                            | 153 kB 63.8 MB\/s eta 0:00:01\r     |███▊                            | 163 kB 63.8 MB\/s eta 0:00:01\r     |████                            | 174 kB 63.8 MB\/s eta 0:00:01\r     |████▎                           | 184 kB 63.8 MB\/s eta 0:00:01\r     |████▌                           | 194 kB 63.8 MB\/s eta 0:00:01\r     |████▊                           | 204 kB 63.8 MB\/s eta 0:00:01\r     |█████                           | 215 kB 63.8 MB\/s eta 0:00:01\r     |█████▏                          | 225 kB 63.8 MB\/s eta 0:00:01\r     |█████▍                          | 235 kB 63.8 MB\/s eta 0:00:01\r     |█████▋                          | 245 kB 63.8 MB\/s eta 0:00:01\r     |██████                          | 256 kB 63.8 MB\/s eta 0:00:01\r     |██████▏                         | 266 kB 63.8 MB\/s eta 0:00:01\r     |██████▍                         | 276 kB 63.8 MB\/s eta 0:00:01\r     |██████▋                         | 286 kB 63.8 MB\/s eta 0:00:01\r     |██████▉                         | 296 kB 63.8 MB\/s eta 0:00:01\r     |███████                         | 307 kB 63.8 MB\/s eta 0:00:01\r     |███████▎                        | 317 kB 63.8 MB\/s eta 0:00:01\r     |███████▌                        | 327 kB 63.8 MB\/s eta 0:00:01\r     |███████▊                        | 337 kB 63.8 MB\/s eta 0:00:01\r     |████████                        | 348 kB 63.8 MB\/s eta 0:00:01\r     |████████▎                       | 358 kB 63.8 MB\/s eta 0:00:01\r     |████████▌                       | 368 kB 63.8 MB\/s eta 0:00:01\r     |████████▊                       | 378 kB 63.8 MB\/s eta 0:00:01\r     |█████████                       | 389 kB 63.8 MB\/s eta 0:00:01\r     |█████████▏                      | 399 kB 63.8 MB\/s eta 0:00:01\r     |█████████▍                      | 409 kB 63.8 MB\/s eta 0:00:01\r     |█████████▋                      | 419 kB 63.8 MB\/s eta 0:00:01\r     |██████████                      | 430 kB 63.8 MB\/s eta 0:00:01\r     |██████████▏                     | 440 kB 63.8 MB\/s eta 0:00:01\r     |██████████▍                     | 450 kB 63.8 MB\/s eta 0:00:01\r     |██████████▋                     | 460 kB 63.8 MB\/s eta 0:00:01\r     |██████████▉                     | 471 kB 63.8 MB\/s eta 0:00:01\r     |███████████                     | 481 kB 63.8 MB\/s eta 0:00:01\r     |███████████▎                    | 491 kB 63.8 MB\/s eta 0:00:01\r     |███████████▌                    | 501 kB 63.8 MB\/s eta 0:00:01\r     |███████████▉                    | 512 kB 63.8 MB\/s eta 0:00:01\r     |████████████                    | 522 kB 63.8 MB\/s eta 0:00:01\r     |████████████▎                   | 532 kB 63.8 MB\/s eta 0:00:01\r     |████████████▌                   | 542 kB 63.8 MB\/s eta 0:00:01\r     |████████████▊                   | 552 kB 63.8 MB\/s eta 0:00:01\r     |█████████████                   | 563 kB 63.8 MB\/s eta 0:00:01\r     |█████████████▏                  | 573 kB 63.8 MB\/s eta 0:00:01\r     |█████████████▍                  | 583 kB 63.8 MB\/s eta 0:00:01\r     |█████████████▊                  | 593 kB 63.8 MB\/s eta 0:00:01\r     |██████████████                  | 604 kB 63.8 MB\/s eta 0:00:01\r     |██████████████▏                 | 614 kB 63.8 MB\/s eta 0:00:01\r     |██████████████▍                 | 624 kB 63.8 MB\/s eta 0:00:01\r     |██████████████▋                 | 634 kB 63.8 MB\/s eta 0:00:01\r     |██████████████▉                 | 645 kB 63.8 MB\/s eta 0:00:01\r     |███████████████                 | 655 kB 63.8 MB\/s eta 0:00:01\r     |███████████████▎                | 665 kB 63.8 MB\/s eta 0:00:01\r     |███████████████▌                | 675 kB 63.8 MB\/s eta 0:00:01\r     |███████████████▉                | 686 kB 63.8 MB\/s eta 0:00:01\r     |████████████████                | 696 kB 63.8 MB\/s eta 0:00:01\r     |████████████████▎               | 706 kB 63.8 MB\/s eta 0:00:01\r     |████████████████▌               | 716 kB 63.8 MB\/s eta 0:00:01\r     |████████████████▊               | 727 kB 63.8 MB\/s eta 0:00:01\r     |█████████████████               | 737 kB 63.8 MB\/s eta 0:00:01\r     |█████████████████▏              | 747 kB 63.8 MB\/s eta 0:00:01\r     |█████████████████▍              | 757 kB 63.8 MB\/s eta 0:00:01\r     |█████████████████▊              | 768 kB 63.8 MB\/s eta 0:00:01\r     |██████████████████              | 778 kB 63.8 MB\/s eta 0:00:01\r     |██████████████████▏             | 788 kB 63.8 MB\/s eta 0:00:01\r     |██████████████████▍             | 798 kB 63.8 MB\/s eta 0:00:01\r     |██████████████████▋             | 808 kB 63.8 MB\/s eta 0:00:01\r     |██████████████████▉             | 819 kB 63.8 MB\/s eta 0:00:01\r     |███████████████████             | 829 kB 63.8 MB\/s eta 0:00:01\r     |███████████████████▎            | 839 kB 63.8 MB\/s eta 0:00:01\r     |███████████████████▋            | 849 kB 63.8 MB\/s eta 0:00:01\r     |███████████████████▉            | 860 kB 63.8 MB\/s eta 0:00:01\r     |████████████████████            | 870 kB 63.8 MB\/s eta 0:00:01\r     |████████████████████▎           | 880 kB 63.8 MB\/s eta 0:00:01\r     |████████████████████▌           | 890 kB 63.8 MB\/s eta 0:00:01\r     |████████████████████▊           | 901 kB 63.8 MB\/s eta 0:00:01\r     |█████████████████████           | 911 kB 63.8 MB\/s eta 0:00:01\r     |█████████████████████▏          | 921 kB 63.8 MB\/s eta 0:00:01\r     |█████████████████████▌          | 931 kB 63.8 MB\/s eta 0:00:01\r     |█████████████████████▊          | 942 kB 63.8 MB\/s eta 0:00:01\r     |██████████████████████          | 952 kB 63.8 MB\/s eta 0:00:01\r     |██████████████████████▏         | 962 kB 63.8 MB\/s eta 0:00:01\r     |██████████████████████▍         | 972 kB 63.8 MB\/s eta 0:00:01\r     |██████████████████████▋         | 983 kB 63.8 MB\/s eta 0:00:01\r     |██████████████████████▉         | 993 kB 63.8 MB\/s eta 0:00:01\r     |███████████████████████         | 1.0 MB 63.8 MB\/s eta 0:00:01\r     |███████████████████████▎        | 1.0 MB 63.8 MB\/s eta 0:00:01\r     |███████████████████████▋        | 1.0 MB 63.8 MB\/s eta 0:00:01\r     |███████████████████████▉        | 1.0 MB 63.8 MB\/s eta 0:00:01\r     |████████████████████████        | 1.0 MB 63.8 MB\/s eta 0:00:01\r     |████████████████████████▎       | 1.1 MB 63.8 MB\/s eta 0:00:01\r     |████████████████████████▌       | 1.1 MB 63.8 MB\/s eta 0:00:01\r     |████████████████████████▊       | 1.1 MB 63.8 MB\/s eta 0:00:01\r     |█████████████████████████       | 1.1 MB 63.8 MB\/s eta 0:00:01\r     |█████████████████████████▏      | 1.1 MB 63.8 MB\/s eta 0:00:01\r     |█████████████████████████▌      | 1.1 MB 63.8 MB\/s eta 0:00:01\r     |█████████████████████████▊      | 1.1 MB 63.8 MB\/s eta 0:00:01\r     |██████████████████████████      | 1.1 MB 63.8 MB\/s eta 0:00:01\r     |██████████████████████████▏     | 1.1 MB 63.8 MB\/s eta 0:00:01\r     |██████████████████████████▍     | 1.1 MB 63.8 MB\/s eta 0:00:01\r     |██████████████████████████▋     | 1.2 MB 63.8 MB\/s eta 0:00:01\r     |██████████████████████████▉     | 1.2 MB 63.8 MB\/s eta 0:00:01\r     |███████████████████████████     | 1.2 MB 63.8 MB\/s eta 0:00:01\r     |███████████████████████████▍    | 1.2 MB 63.8 MB\/s eta 0:00:01\r     |███████████████████████████▋    | 1.2 MB 63.8 MB\/s eta 0:00:01\r     |███████████████████████████▉    | 1.2 MB 63.8 MB\/s eta 0:00:01\r     |████████████████████████████    | 1.2 MB 63.8 MB\/s eta 0:00:01\r     |████████████████████████████▎   | 1.2 MB 63.8 MB\/s eta 0:00:01\r     |████████████████████████████▌   | 1.2 MB 63.8 MB\/s eta 0:00:01\r     |████████████████████████████▊   | 1.2 MB 63.8 MB\/s eta 0:00:01\r     |█████████████████████████████   | 1.3 MB 63.8 MB\/s eta 0:00:01\r     |█████████████████████████████▎  | 1.3 MB 63.8 MB\/s eta 0:00:01\r     |█████████████████████████████▌  | 1.3 MB 63.8 MB\/s eta 0:00:01\r     |█████████████████████████████▊  | 1.3 MB 63.8 MB\/s eta 0:00:01\r     |██████████████████████████████  | 1.3 MB 63.8 MB\/s eta 0:00:01\r     |██████████████████████████████▏ | 1.3 MB 63.8 MB\/s eta 0:00:01\r     |██████████████████████████████▍ | 1.3 MB 63.8 MB\/s eta 0:00:01\r     |██████████████████████████████▋ | 1.3 MB 63.8 MB\/s eta 0:00:01\r     |██████████████████████████████▉ | 1.3 MB 63.8 MB\/s eta 0:00:01\r     |███████████████████████████████ | 1.4 MB 63.8 MB\/s eta 0:00:01\r     |███████████████████████████████▍| 1.4 MB 63.8 MB\/s eta 0:00:01\r     |███████████████████████████████▋| 1.4 MB 63.8 MB\/s eta 0:00:01\r     |███████████████████████████████▉| 1.4 MB 63.8 MB\/s eta 0:00:01\r     |████████████████████████████████| 1.4 MB 63.8 MB\/s            \r\n",
      "\u001b[?25h  Preparing metadata (setup.py) ... \u001b[?25l-\b \bdone\r\n",
      "\u001b[?25hCollecting libwapiti>=0.2.1\r\n",
      "  Downloading libwapiti-0.2.1.tar.gz (233 kB)\r\n",
      "\u001b[?25l\r\r     |█▍                              | 10 kB 26.3 MB\/s eta 0:00:01\r     |██▉                             | 20 kB 33.4 MB\/s eta 0:00:01\r     |████▏                           | 30 kB 40.9 MB\/s eta 0:00:01\r     |█████▋                          | 40 kB 45.1 MB\/s eta 0:00:01\r     |███████                         | 51 kB 46.8 MB\/s eta 0:00:01\r     |████████▍                       | 61 kB 48.5 MB\/s eta 0:00:01\r     |█████████▉                      | 71 kB 49.1 MB\/s eta 0:00:01\r     |███████████▏                    | 81 kB 50.6 MB\/s eta 0:00:01\r     |████████████▋                   | 92 kB 52.7 MB\/s eta 0:00:01\r     |██████████████                  | 102 kB 53.8 MB\/s eta 0:00:01\r     |███████████████▍                | 112 kB 53.8 MB\/s eta 0:00:01\r     |████████████████▉               | 122 kB 53.8 MB\/s eta 0:00:01\r     |██████████████████▎             | 133 kB 53.8 MB\/s eta 0:00:01\r     |███████████████████▋            | 143 kB 53.8 MB\/s eta 0:00:01\r     |█████████████████████           | 153 kB 53.8 MB\/s eta 0:00:01\r     |██████████████████████▍         | 163 kB 53.8 MB\/s eta 0:00:01\r     |███████████████████████▉        | 174 kB 53.8 MB\/s eta 0:00:01\r     |█████████████████████████▎      | 184 kB 53.8 MB\/s eta 0:00:01\r     |██████████████████████████▋     | 194 kB 53.8 MB\/s eta 0:00:01\r     |████████████████████████████    | 204 kB 53.8 MB\/s eta 0:00:01\r     |█████████████████████████████▌  | 215 kB 53.8 MB\/s eta 0:00:01\r     |██████████████████████████████▉ | 225 kB 53.8 MB\/s eta 0:00:01\r     |████████████████████████████████| 233 kB 53.8 MB\/s            \r\n",
      "\u001b[?25h  Preparing metadata (setup.py) ... \u001b[?25l-\b \bdone\r\n",
      "\u001b[?25hRequirement already satisfied: six in \/opt\/python\/envs\/default\/lib\/python3.8\/site-packages (from nltk==3.3->hazm) (1.16.0)\r\n",
      "Building wheels for collected packages: nltk, libwapiti\r\n",
      "  Building wheel for nltk (setup.py) ... \u001b[?25l-\b \b\\\b \b|\b \b\/\b \b-\b \bdone\r\n",
      "\u001b[?25h  Created wheel for nltk: filename=nltk-3.3-py3-none-any.whl size=1394468 sha256=69670e5104078840d9c51b74b4152d5b1656b3f3a0f6b55e3e6c578f659d71eb\r\n",
      "  Stored in directory: \/home\/datalore\/.cache\/pip\/wheels\/19\/1d\/3a\/0a8c14c30132b4f9ffd796efbb6746f15b3d6bcfc1055a9346\r\n",
      "  Building wheel for libwapiti (setup.py) ... \u001b[?25l-\b \b\\\b \b|\b \b\/\b \b-\b \b\\\b \b|\b \b\/\b \b-\b \b\\\b \b|\b \b\/\b \b-\b \b\\\b \b|\b \b\/\b \bdone\r\n",
      "\u001b[?25h  Created wheel for libwapiti: filename=libwapiti-0.2.1-cp38-cp38-linux_x86_64.whl size=193066 sha256=7b5e1bbc3ce994f54acdc58076ac996e2e848b15ee11c01b234d25ba00e8a81c\r\n",
      "  Stored in directory: \/home\/datalore\/.cache\/pip\/wheels\/3c\/d8\/9f\/59fd78b2b7d1e9ffcb68fb6de80c2e7c20b804c8cbc4d8fc23\r\n",
      "Successfully built nltk libwapiti\r\n",
      "Installing collected packages: nltk, libwapiti, hazm\r\n",
      "Successfully installed hazm-0.7.0 libwapiti-0.2.1 nltk-3.3\r\n",
      "\u001b[33mWARNING: You are using pip version 21.3.1; however, version 22.0.4 is available.\r\n",
      "You should consider upgrading via the '\/opt\/python\/envs\/default\/bin\/python -m pip install --upgrade pip' command.\u001b[0m\r\n",
      "Note: you may need to restart the kernel to use updated packages.\n",
      "Requirement already satisfied: pandas in \/opt\/python\/envs\/default\/lib\/python3.8\/site-packages (1.3.5)\r\n",
      "Requirement already satisfied: python-dateutil>=2.7.3 in \/opt\/python\/envs\/default\/lib\/python3.8\/site-packages (from pandas) (2.8.2)\r\n",
      "Requirement already satisfied: pytz>=2017.3 in \/opt\/python\/envs\/default\/lib\/python3.8\/site-packages (from pandas) (2022.1)\r\n",
      "Requirement already satisfied: numpy>=1.17.3 in \/opt\/python\/envs\/default\/lib\/python3.8\/site-packages (from pandas) (1.21.5)\r\n",
      "Requirement already satisfied: six>=1.5 in \/opt\/python\/envs\/default\/lib\/python3.8\/site-packages (from python-dateutil>=2.7.3->pandas) (1.16.0)\r\n",
      "\u001b[33mWARNING: You are using pip version 21.3.1; however, version 22.0.4 is available.\r\n",
      "You should consider upgrading via the '\/opt\/python\/envs\/default\/bin\/python -m pip install --upgrade pip' command.\u001b[0m\r\n",
      "Note: you may need to restart the kernel to use updated packages.\n"
     ],
     "output_type":"stream"
    }
   ],
   "metadata":{
    "datalore":{
     "type":"CODE",
     "hide_input_from_viewers":false,
     "hide_output_from_viewers":false
    }
   }
  },
  {
   "cell_type":"code",
   "source":[
    "from src.pipelines import *\n",
    "from src.base import SpeechTagsPipeline\n",
    "from src.utils import filter_non_units, convert, match_patterns"
   ],
   "execution_count":5,
   "outputs":[
    
   ],
   "metadata":{
    "datalore":{
     "type":"CODE",
     "hide_input_from_viewers":false,
     "hide_output_from_viewers":false
    }
   }
  },
  {
   "cell_type":"markdown",
   "source":[
    "<div dir=\"rtl\">\n",
    "\n",
    "## تعریف مساله\n",
    "\n",
    "تعریف مسئله به این شکل است: یک استرینگ به عنوان ورودی به تابع\n",
    "```run(org_str)```\n",
    "داده میشود و خروجی آن مواردی از واحدها، عددهای مربوطه، مرجع عدد و واحد پیدا شده (در صورت وجود) و همچنین بازه این موارد در استرینگ میباشد.\n",
    "<\/div>"
   ],
   "attachments":{
    
   },
   "metadata":{
    "datalore":{
     "type":"MD",
     "hide_input_from_viewers":false,
     "hide_output_from_viewers":false
    }
   }
  },
  {
   "cell_type":"markdown",
   "source":[
    "<div dir=\"rtl\">\n",
    "\n",
    "## روند کلی\n",
    "\n",
    "پردازش متن برای بدست آمدن نتیجه مورد نظر از دو فاز تشکیل شده است.\n",
    "\n",
    "1. یک خط لوله برای برچسب گذاری اعداد، واحدها، اسم‌ها و صفت‌ها.\n",
    "2. تطبیق برچسب‌های بدست آمده با الگوهای زبانی عدد و یکا.\n",
    "\n",
    "<\/div>"
   ],
   "attachments":{
    
   },
   "metadata":{
    "datalore":{
     "type":"MD",
     "hide_input_from_viewers":false,
     "hide_output_from_viewers":false
    }
   }
  },
  {
   "cell_type":"markdown",
   "source":[
    "<div dir=\"rtl\">\n",
    "\n",
    "## فاز اول: برچسب‌گذاری\n",
    "\n",
    "با توجه به نیاز مساله، برچسب هایی از قبیل عدد، اسم، صفت ، کمیت، واحد و تعدادی برچسب کمکی تعریف می‌کنیم و در یک خط لوله تلاش می‌کنیم که این برچسب‌ها را با یک ترتیب منطقی پیدا کنیم. توجه بفرمایید که این برچسب‌ها هر یک در بازه‌ای قرار می‌گیرند بنابرین در نهایت با تجمیع این بازه‌های می‌توانیم بازه نهایی مورد نظر را بدست آوریم.\n",
    "\n",
    "<\/div>"
   ],
   "attachments":{
    
   },
   "metadata":{
    "datalore":{
     "type":"MD",
     "hide_input_from_viewers":false,
     "hide_output_from_viewers":false
    }
   }
  },
  {
   "cell_type":"markdown",
   "source":[
    "<div dir=\"rtl\">\n",
    "\n",
    "### خط لوله برچسب گذاری\n",
    "\n",
    "در یک خط لوله، به ترتیب منطقی ابتدا برچسب‌ها را با توجه به برچسب‌های قبلی بدست آمده، بدست می‌آوریم و در نهایت، تمام برچسب‌های سخن را برای فاز دوم بر‌می‌گردانیم.\n",
    "\n",
    "ترتیب پیدا کردن برچسب‌ها به شکل زیر میباشد: ابتدا اعداد را پیدا میکنیم، سپس مراحل نسبتا زیادی را صرف پیدا کردن و تجزیه و تحلیل واحدها و کمیت‌های داخل متن میکنیم و در نهایت برچسب های مربوط به اسامی و صفت‌ها را پیدا میکنیم.\n",
    "\n",
    "این قسمت به شکل یک پایپلاین پیاده سازی شده که در هر مرحله، یک پایپ استرینگ اولیه را به همراه تمامی برچسب‌های پیدا شده تحت یک لیست دریافت میکند. سپس با پردازش استرینگ ورودی، به لیست برچسب‌های پیدا شده، برچسب‌های خود را اضافه میکند. شمای یک برچسب در حالت کلی به شکل زیر میباشد:\n",
    "\n",
    "<\/div>\n",
    "\n",
    "src.base.SpeechTag:\n",
    "\n",
    "```\n",
    "class SpeechTag(object):\n",
    "\n",
    "    def __init__(self, tag: Tag, span: Span, value: Union[int, float, str, None]):\n",
    "        self.tag = tag\n",
    "        self.span = span\n",
    "        self.value = value\n",
    "\n",
    "    @staticmethod\n",
    "    def to_pattern_str(st_list):\n",
    "        return ''.join(map(lambda st: st.tag.value, st_list))\n",
    "```\n",
    "\n",
    "<div dir=\"rtl\">\n",
    "\n",
    "همچنین شمای یک پایپ به صورت کلی به شکل زیر میباشد:\n",
    "\n",
    "<\/div>\n",
    "\n",
    "src.pipelines.get_xxx_tags_pipe:\n",
    "\n",
    "```\n",
    "# Note the general prototpye for the pipe\n",
    "def get_number_tags_pipe(org_str: str, speech_tags: List[SpeechTag]) -> List[SpeechTag]:\n",
    "    # Some processing...\n",
    "    scientific_nums = number_extractor(org_str)\n",
    "    speech_tags = speech_tags + scientific_nums\n",
    "\n",
    "    # Create newly found speech tags and add them to the main list upon validation\n",
    "    for num in default_number_extractor.run(org_str):\n",
    "        num_span = Span(num['span'][0], num['span'][1])\n",
    "        if not any([x.span.is_overlapped(num_span) for x in scientific_nums]):\n",
    "            speech_tags.append(NumberTag(num_span, num['value']))\n",
    "        \n",
    "    # Finally return the cumulated list\n",
    "    return speech_tags\n",
    "```"
   ],
   "attachments":{
    
   },
   "metadata":{
    "datalore":{
     "type":"MD",
     "hide_input_from_viewers":false,
     "hide_output_from_viewers":false
    }
   }
  },
  {
   "cell_type":"markdown",
   "source":[
    "<div dir=\"rtl\">\n",
    "\n",
    "### اعداد\n",
    "\n",
    "برای پیدا کردن اعداد از دو روش همزمان استفاده میشود. نخست با استفاده از رجکس اعدادی که فرمت عددی دارند پیدا شده، و سپس با استفاده ابزار parsi.io به استخراج اعداد با فرمت متنی میپردازیم. در ادامه تست این تابع را مشاهده میکنید:\n",
    "<\/div>"
   ],
   "attachments":{
    
   },
   "metadata":{
    "datalore":{
     "type":"MD",
     "hide_input_from_viewers":false,
     "hide_output_from_viewers":false
    }
   }
  },
  {
   "cell_type":"code",
   "source":[
    "# Just to Show\n",
    "[\n",
    "    get_number_tags_pipe('دو کیلو و نیم', []),\n",
    "    get_number_tags_pipe('دو کیلو و صد گرم', []),\n",
    "    get_number_tags_pipe('یک متر و بیست سانت', []),\n",
    "    get_number_tags_pipe('هشتاد و پنج صدم وات', []),\n",
    "    get_number_tags_pipe('.21x10**50', []),\n",
    "    get_number_tags_pipe('120.1', []),\n",
    "    get_number_tags_pipe('120.', []),\n",
    "    get_number_tags_pipe('1.022*10^23', []),\n",
    "    get_number_tags_pipe('1.022', []),\n",
    "    get_number_tags_pipe('1e3', []),\n",
    "    get_number_tags_pipe('-18732.787e-100', [])\n",
    "]"
   ],
   "execution_count":5,
   "outputs":[
    {
     "data":{
      "text\/plain":[
       "[[<NUM 2 in (0, 2)>, <NUM 0.5 in (10, 13)>],\n",
       " [<NUM 2 in (0, 2)>, <NUM 100 in (10, 12)>],\n",
       " [<NUM 1 in (0, 2)>, <NUM 20 in (9, 13)>],\n",
       " [<NUM 80.05 in (0, 15)>],\n",
       " [<NUM 2.1e+49 in (0, 10)>],\n",
       " [<NUM 120.1 in (0, 5)>],\n",
       " [<NUM 120 in (0, 3)>],\n",
       " [<NUM 1.0219999999999999e+23 in (0, 11)>],\n",
       " [<NUM 1.022 in (0, 5)>],\n",
       " [<NUM 1000.0 in (0, 3)>],\n",
       " [<NUM -1.8732787e-96 in (0, 15)>]]"
      ]
     },
     "metadata":{
      
     },
     "output_type":"display_data"
    }
   ],
   "metadata":{
    "datalore":{
     "type":"CODE",
     "hide_input_from_viewers":false,
     "hide_output_from_viewers":false
    }
   }
  },
  {
   "cell_type":"markdown",
   "source":[
    "<div dir=\"rtl\">\n",
    "\n",
    "### یکاها\n",
    "\n",
    "<\/div>"
   ],
   "attachments":{
    
   },
   "metadata":{
    "datalore":{
     "type":"MD",
     "hide_input_from_viewers":false,
     "hide_output_from_viewers":false
    }
   }
  },
  {
   "cell_type":"markdown",
   "source":[
    "<div dir=\"rtl\">\n",
    "\n",
    "واحدها به طرق مختلف با یک دیگر ترکیب می‌شوند و واحدهای جدید را بوجود می‌آورند. به عنوان مثال اضافه شدن یک پیشوند به یک واحد ساده، یک واحد پیشوندی بوجود می‌آورد (به عنوان مثال: کیلومتر = کیلو + متر) یا اضافه شدن یک مرتبه‌ساز (مربع، مکعب، مجذور) با یک واحد ساده یا یک واحد پیشوندی، یک واحد مرتبه‌دار بوجود می‌آورد (به عنوان مثال: کیلومتر مربع: کیلومتر + مربع).\n",
    "\n",
    "عبارت‌های پایه‌ای سازنده واحدها عبارتند از:\n",
    "<ul>\n",
    "    <li> • واحدهای ساده (Su) مانند گرم، نیوتن، پاسکال، متر و ... <\/li>\n",
    "    <li> • پیشوندها (Sip) مانند کیلو، میلی، مگا و ... <\/li>\n",
    "    <li> • مرکب‌سازها (Cmp) مانند \"بر\"، \"در\" و ... <\/li>\n",
    "<\/ul>\n",
    "\n",
    "حال میتوانیم علاوه بر واحدهای ساده، انواعی از واحدها را داشته باشیم:\n",
    "\n",
    "<ul>\n",
    "    <li> • واحدهای پیشوندی (Pu) <\/li>\n",
    "    <li> • واحدهای مرتبه‌دار (Ou) <\/li>\n",
    "    <li> • واحدهای مرکب (U) <\/li>\n",
    "<\/ul>\n",
    "با توجه به اینکه نحو ترکیب واحدها کمابیش مشخص است، یک دستور نحوی میتوانیم برای آن تعریف کنیم. چنین تعریفی به طریق زیر خواهد بود.\n",
    "\n",
    "\n",
    "<\/div>\n",
    "\n",
    "<div dir=\"ltr\">\n",
    "<center>\n",
    "\n",
    "$U::=Ou|UOu|UCmpOu$\n",
    "\n",
    "$Ou::=Pu|OrdmPu|PuOrdm$\n",
    "\n",
    "$Pu::=Su|SipSu$\n",
    "\n",
    "$Su$ is defined by a set of units which we get in dataset.\n",
    "\n",
    "<small>\n",
    "\n",
    "$Su$: Simple Unit,\n",
    "$Sip$: SI Prefix,\n",
    "$Pu$: Prefixed Unit,\n",
    "$Ordm$: Order Modifier,\n",
    "$Cmp$: Compounder,\n",
    "$U$: Unit\n",
    "\n",
    "<\/small>\n",
    "\n",
    "<\/center>\n",
    "<\/div>\n",
    "\n",
    "\n",
    "<div dir=\"rtl\">\n",
    "\n",
    "با توجه به دستور فوق، میتوان درخت نحوی یک واحد بسیار پیچیده را ایجاد کرد. درخت زیر را در نظر بگیرید که واحد \"کیلوگرم میلی‌متر مربع بر مجذور نانوثانیه\" را توصیف میکند.\n",
    "\n",
    "<img src=\"resources\/unit_tree.png\">\n",
    "\n",
    "\n",
    "در این پیاده‌سازی، ما درخت نحوی واحدها را می‌سازیم. همچنین در داده اولیه در کنار پیشوند‌ها ضریب آنها را و در کنار واحدها نسبت آنها به واحد SI را ذخیره می‌کنیم. همچنین رفتار مرتبه‌سازها و مرکب‌سازها را که با واحدشان دارند را در قالب یک تابع در کنار هر یک ذخیره می‌کنیم. به عنوان مثال مرکب‌ساز \"بر\" نسبت‌ها را بر هم تقسیم می‌کند و مرتبه‌ساز مربع نسبت مورد نظر را به توان دو می‌رساند. به این طریق با محاسبه بازگشتی، میتوانیم نسبت اندازه هر واحد مرکب به واحد SI مربوطه را بدست آوریم.\n",
    "\n",
    "همچنین برای بدست آمدن کمیت مربوط به هر واحد، آن واحد را تحلیل ابعادی میکنیم. به عنوان مثال واحدهای نیرو در ابعاد  قرار دارند. برای این منظور ابعاد کمیت‌های مختلف را در داده اولیه قرار می‌دهیم و با توجه به آن مشابه ضریب تبدیل به SI، ابعاد واحدهای مرکب را محاسبه می‌کنیم و آن را با کمیت‌های مختلف تطبیق می‌دهیم.\n",
    "\n",
    "<\/dir>"
   ],
   "attachments":{
    
   },
   "metadata":{
    "datalore":{
     "type":"MD",
     "hide_input_from_viewers":false,
     "hide_output_from_viewers":false
    }
   }
  },
  {
   "cell_type":"code",
   "source":[
    "test_unit_pipeline = SpeechTagsPipeline([\n",
    "    get_number_tags_pipe,\n",
    "    get_quantity_name_tags_pipe,\n",
    "    get_simple_unit_tags_on_names_pipe,\n",
    "    get_simple_unit_tags_on_symbols_pipe,\n",
    "    get_si_prefix_tags_on_names_pipe,\n",
    "    get_si_prefix_tags_on_symbols_pipe,\n",
    "    get_order_modifier_tags_pipe,\n",
    "    get_unit_compounder_preposition_tags_pipe,\n",
    "    speech_tags_sorter_pipe,\n",
    "    get_prefixed_units_pipe,\n",
    "    get_ordered_units_pipe,\n",
    "    get_units_pipe\n",
    "])"
   ],
   "execution_count":6,
   "outputs":[
    
   ],
   "metadata":{
    "datalore":{
     "type":"CODE",
     "hide_input_from_viewers":false,
     "hide_output_from_viewers":false
    }
   }
  },
  {
   "cell_type":"code",
   "source":[
    "# Just to Show\n",
    "[\n",
    "    test_unit_pipeline.run('دو نیوتن بر متر مربع و نیم'),\n",
    "    test_unit_pipeline.run('دو کیلومتر و صد گرم'),\n",
    "    test_unit_pipeline.run('یک متر و بیست سانت'),\n",
    "    test_unit_pipeline.run('هشتاد و پنج صدم وات'),\n",
    "]"
   ],
   "execution_count":12,
   "outputs":[
    {
     "data":{
      "text\/plain":[
       "[[<NUM 2 in (0, 2)>,\n",
       "  <Unit <Unit <OrdUnit None <PfxUnit None <SUnit نیوتن at (3, 8)> at (3, 8)> at (3, 8)> None None> <Cmp بر at (9, 11)> <OrdUnit <OMfr مربع at (16, 20) <PfxUnit None <SUnit متر at (12, 15)> at (12, 15)> at (12, 20)>>,\n",
       "  <NUM 0.5 in (23, 26)>],\n",
       " [<NUM 2 in (0, 2)>,\n",
       "  <Unit <OrdUnit None <PfxUnit <Pfx کیلو at (3, 7)> <SUnit متر at (7, 10)> at (3, 10)> at (3, 10)> None None>,\n",
       "  <NUM 100 in (13, 15)>,\n",
       "  <Unit <OrdUnit None <PfxUnit None <SUnit گرم at (16, 19)> at (16, 19)> at (16, 19)> None None>],\n",
       " [<NUM 1 in (0, 2)>,\n",
       "  <Unit <OrdUnit None <PfxUnit None <SUnit متر at (3, 6)> at (3, 6)> at (3, 6)> None None>,\n",
       "  <NUM 20 in (9, 13)>],\n",
       " [<NUM 80.05 in (0, 15)>,\n",
       "  <Unit <OrdUnit None <PfxUnit None <SUnit وات at (16, 19)> at (16, 19)> at (16, 19)> None None>]]"
      ]
     },
     "metadata":{
      
     },
     "output_type":"display_data"
    }
   ],
   "metadata":{
    "datalore":{
     "type":"CODE",
     "hide_input_from_viewers":false,
     "hide_output_from_viewers":false
    }
   }
  },
  {
   "cell_type":"markdown",
   "source":[
    "<div dir=\"rtl\">\n",
    "در هر مثال میتوانید واحدهایی که پیدا شده اند را به حالت درختی آنها، یعنی پیشوند، واحد، مرکب ساز و ... مشاهده کنید.\n",
    "<\/div>"
   ],
   "attachments":{
    
   },
   "metadata":{
    "datalore":{
     "type":"MD",
     "hide_input_from_viewers":false,
     "hide_output_from_viewers":false
    }
   }
  },
  {
   "cell_type":"markdown",
   "source":[
    "<div dir=\"rtl\">\n",
    "\n",
    "### نقش‌های زبانی\n",
    "\n",
    "در نهایت بعد از پردازش واحدها و یکاها، اسامی و صفت‌ها را برسی میکنیم. برای این منظور از یک مدل \n",
    "```POSTagger```\n",
    "استفاده میکنیم که در مدل آنرا از سایت این درس برداشته‌ایم. در این قسمت در واقع تمام مواردی که میتوانند \n",
    "```item```\n",
    "باشند را به عنوان اسم گرفته ایم. همچنین برای پیدا کردن توصیفات کمیتی\n",
    "(مانند سرعت زیاد که باید در جواب نهایی در نظر گرفته شود) صفت‌ها را نیز پیدا کرده‌ایم.\n",
    "\n",
    "<\/div>"
   ],
   "attachments":{
    
   },
   "metadata":{
    "datalore":{
     "type":"MD",
     "hide_input_from_viewers":false,
     "hide_output_from_viewers":false
    }
   }
  },
  {
   "cell_type":"code",
   "source":[
    "# Just to Show\n",
    "[\n",
    "    [(st.tag, st.span.to_tuple(), st.value) for st in get_postags_pipe('این یک تست عجیب و زیبا میباشد', [])],\n",
    "    [(st.tag, st.span.to_tuple(), st.value) for st in get_postags_pipe('هیچگاه انقدر خفن خوابم نمیامده', [])],\n",
    "    [(st.tag, st.span.to_tuple(), st.value) for st in get_postags_pipe('و چه کارهای خطیری که بخاطر فرار نمیکنیم', [])],\n",
    "    [(st.tag, st.span.to_tuple(), st.value) for st in get_postags_pipe('و قسم به ددلاین', [])],\n",
    "]"
   ],
   "execution_count":20,
   "outputs":[
    {
     "data":{
      "text\/plain":[
       "[[(<Tag.NOUN: 'N'>, (0, 3), 'این'),\n",
       "  (<Tag.NOUN: 'N'>, (7, 10), 'تست'),\n",
       "  (<Tag.ADJECTIVE: 'J'>, (11, 15), 'عجیب'),\n",
       "  (<Tag.ADJECTIVE: 'J'>, (18, 22), 'زیبا')],\n",
       " [(<Tag.NOUN: 'N'>, (13, 16), 'خفن'), (<Tag.NOUN: 'N'>, (17, 22), 'خوابم')],\n",
       " [(<Tag.NOUN: 'N'>, (5, 11), 'کارهای'),\n",
       "  (<Tag.ADJECTIVE: 'J'>, (12, 17), 'خطیری'),\n",
       "  (<Tag.NOUN: 'N'>, (27, 31), 'فرار')],\n",
       " [(<Tag.NOUN: 'N'>, (2, 5), 'قسم'), (<Tag.NOUN: 'N'>, (9, 15), 'ددلاین')]]"
      ]
     },
     "metadata":{
      
     },
     "output_type":"display_data"
    }
   ],
   "metadata":{
    "datalore":{
     "type":"CODE",
     "hide_input_from_viewers":false,
     "hide_output_from_viewers":false
    }
   }
  },
  {
   "cell_type":"markdown",
   "source":[
    "<div dir=\"rtl\">\n",
    "همانطور که میبینید مدل تگر میتوانست بهتر باشد...\n",
    "<\/div>"
   ],
   "attachments":{
    
   },
   "metadata":{
    "datalore":{
     "type":"MD",
     "hide_input_from_viewers":false,
     "hide_output_from_viewers":false
    }
   }
  },
  {
   "cell_type":"markdown",
   "source":[
    "<div dir=\"rtl\">\n",
    "\n",
    "## فاز دوم: تطبیق با الگوها\n",
    "\n",
    "\n",
    "در این قسمت، توابع جواب قسمت‌ قبل را گرفته و با استفاده از پترن‌های هارد کد شده سعی میکنند که خواسته‌های مسئله را استخراج کنند. پترن ها به طور کلی به شکل زیر هستند:\n",
    "\n",
    "\n",
    "<\/div>\n",
    "\n",
    "```\n",
    "patterns = [\n",
    "    'D+\\s*U+\\s*N+',  # علی ۳۰۰ کیلو شیشه خرید (also handles 200kg) 1\n",
    "    'D+\\s*U+',  # اتوبان ۲۰۰ دقیقه تا فلان فاصله دارد  2\n",
    "    'Q+\\s*N+\\s*J+\\s*D+\\s*U+',  # وزن علی کوچولو ۲۰۰ کیلو است 3\n",
    "    'Q+\\s*N+\\s*D+\\s*U+',  # وزن علی ۲۰۰ کیلو است 4\n",
    "    'N+\\s*J+\\s*D+\\s*U+',  # علی کوچولو ۲۰۰ کیلو است 5\n",
    "    'Q+\\s*J+',  # سرعت زیاد 7\n",
    "    'N+\\s*D+\\s*U+\\s*Q+',  # شیشه ۲۰۰ کیلو وزن دارد 8\n",
    "    'Q+\\s*D+\\s*U+',  # به وزن ۲۰۰ کیلو 9\n",
    "    'D+\\s*U+\\s*.\\s*D+\\s*U+',\n",
    "    'D+\\s*U+\\s*.\\s*D+\\s*U+\\s*N+',  # ۲ متر و ۳۰ سانت پارچه خرید 11\n",
    "]\n",
    "```"
   ],
   "attachments":{
    
   },
   "metadata":{
    "datalore":{
     "type":"MD",
     "hide_input_from_viewers":false,
     "hide_output_from_viewers":false
    }
   }
  },
  {
   "cell_type":"code",
   "source":[
    "# complete pipeline for final test\n",
    "\n",
    "extractor_pipeline = SpeechTagsPipeline([\n",
    "    get_number_tags_pipe,\n",
    "    get_quantity_name_tags_pipe,\n",
    "    get_simple_unit_tags_on_names_pipe,\n",
    "    get_simple_unit_tags_on_symbols_pipe,\n",
    "    get_si_prefix_tags_on_names_pipe,\n",
    "    get_si_prefix_tags_on_symbols_pipe,\n",
    "    get_order_modifier_tags_pipe,\n",
    "    get_unit_compounder_preposition_tags_pipe,\n",
    "    speech_tags_sorter_pipe,\n",
    "    get_prefixed_units_pipe,\n",
    "    get_ordered_units_pipe,\n",
    "    get_units_pipe,\n",
    "    filter_pipe,\n",
    "    get_postags_pipe,\n",
    "])"
   ],
   "execution_count":21,
   "outputs":[
    
   ],
   "metadata":{
    "datalore":{
     "type":"CODE",
     "hide_input_from_viewers":false,
     "hide_output_from_viewers":false
    }
   }
  },
  {
   "cell_type":"markdown",
   "source":[
    "<div dir=\"rtl\">\n",
    "\n",
    "در نهایت به تابع نهایی میرسیم. که همانطور که خواسته شده بود تنها یک استرینگ به عنوان ورودی دریافت میکند. اول از همه برچست ‌های مربوط به استرینگ را پیدا میکند و سپس با استفاده از توابع نوشته شده، پترن‌ها را استخراج و مچ میکند. در نهایت تمامی آیتم‌های ساخته شده را خروجی میدهد.\n",
    "\n",
    "<\/div>"
   ],
   "attachments":{
    
   },
   "metadata":{
    "datalore":{
     "type":"MD",
     "hide_input_from_viewers":false,
     "hide_output_from_viewers":false
    }
   }
  },
  {
   "cell_type":"code",
   "source":[
    "def run(org_str):\n",
    "    speech_tags = extractor_pipeline.run(org_str)\n",
    "    # print(speech_tags)\n",
    "    created_objects_output = match_patterns(org_str, speech_tags)\n",
    "    return created_objects_output"
   ],
   "execution_count":23,
   "outputs":[
    
   ],
   "metadata":{
    "datalore":{
     "type":"CODE",
     "hide_input_from_viewers":false,
     "hide_output_from_viewers":false
    }
   }
  },
  {
   "cell_type":"code",
   "source":[
    "# Just to Show\n",
    "test_list = [\n",
    "    [print(o) for o in run('علی ۴۰ کیلو وزن دارد و بار به این سنگین است.')],\n",
    "    [print(o) for o in run('تندی زیاد نیست')],\n",
    "    [print(o) for o in run('علی ۲ kg شیشه خرید.')]\n",
    "]"
   ],
   "execution_count":34,
   "outputs":[
    {
     "name":"stdout",
     "text":[
      "{'type': 'جرم', 'amount': 40, 'unit': 'کیلو', 'item': 'علی', 'marker': 'علی ۴۰ کیلو وزن', 'span': (0, 15)}\n",
      "{'type': 'سرعت', 'amount': '', 'unit': '', 'item': '', 'marker': 'تندی زیاد', 'span': (0, 9)}\n",
      "{'type': 'جرم', 'amount': 2, 'unit': 'kg', 'item': '', 'marker': '۲ kg', 'span': (4, 8)}\n"
     ],
     "output_type":"stream"
    }
   ],
   "metadata":{
    "datalore":{
     "type":"CODE",
     "hide_input_from_viewers":false,
     "hide_output_from_viewers":false
    }
   }
  },
  {
   "cell_type":"markdown",
   "source":[
    "<div dir=\"rtl\">\n",
    "\n",
    "## تست روی داده ها و دیدن نتایج\n",
    "\n",
    "\n",
    "در این قسمت تعدادی تست کیس آماده شده که تست و نمایش داده میشود. این تست کیس‌ها را میتوانید در\n",
    "```resources\/unit_tests.txt```\n",
    "مشاهده کنید\n",
    "<\/div>"
   ],
   "attachments":{
    
   },
   "metadata":{
    "datalore":{
     "type":"MD",
     "hide_input_from_viewers":false,
     "hide_output_from_viewers":false
    }
   }
  },
  {
   "cell_type":"code",
   "source":[
    "tests_file = open(\"resources\/unit_tests.txt\", \"rt\")\n",
    "tests = tests_file.read().split(\"\\n\")\n",
    "tests_file.close()\n",
    "for test in tests:\n",
    "    created_objects = run(test)\n",
    "    for unit_object in created_objects:\n",
    "        print(unit_object)"
   ],
   "execution_count":31,
   "outputs":[
    {
     "name":"stdout",
     "text":[
      "علی با سرعت زیاد به سمت خانه آمد. او میدانست که باید ۵ مترمربع پارچه بخرد و آن را با سرعت 5km\/s به خانه برساند که این فشار زیاد به او میخوراند. الان که دارم این حرف را میزنم احتمالا ۵ ساعت و ۴ دقیقه طول بکشد تا تو آن را بخوانی، ولی بدان که اگر با فشار ۴ اتمسفرر هوا را با توان ۵ کیلووات به سمت من هل دهی،َ باز هم من مقاومت میکنم و عصای پنج متر و شش سانتی متری ام را حلقت فرو میکنم.\n",
      "{'type': 'سرعت', 'amount': '', 'unit': '', 'item': '', 'marker': 'سرعت زیاد', 'span': (7, 16)}\n",
      "{'type': 'مساحت', 'amount': 5, 'unit': 'مترمربع', 'item': 'پارچه', 'marker': '۵ مترمربع پارچه', 'span': (53, 68)}\n",
      "{'type': 'سرعت', 'amount': 5, 'unit': 'km\/s', 'item': '', 'marker': 'سرعت 5km\/s', 'span': (85, 95)}\n",
      "{'type': 'فشار', 'amount': '', 'unit': '', 'item': '', 'marker': 'فشار زیاد', 'span': (118, 127)}\n",
      "{'type': 'زمان', 'amount': 5, 'unit': 'ساعت', 'item': '', 'marker': '۵ ساعت', 'span': (182, 188)}\n",
      "{'type': 'زمان', 'amount': 4, 'unit': 'دقیقه', 'item': '', 'marker': '۴ دقیقه', 'span': (191, 198)}\n",
      "{'type': 'فشار', 'amount': 4, 'unit': 'اتمسفر', 'item': '', 'marker': 'فشار ۴ اتمسفر', 'span': (247, 260)}\n",
      "{'type': 'توان', 'amount': 5, 'unit': 'کیلووات به سمت من هل دهی،َ باز هم من', 'item': '', 'marker': 'توان ۵ کیلووات به سمت من هل دهی،َ باز هم من', 'span': (272, 315)}\n",
      "{'type': 'طول', 'amount': 5, 'unit': 'متر', 'item': '', 'marker': 'پنج متر', 'span': (336, 343)}\n",
      "{'type': 'طول', 'amount': 6, 'unit': 'سانتی متر', 'item': '', 'marker': 'شش سانتی متر', 'span': (346, 358)}\n",
      "سلام ای دوستی که ۵ کیلومتر با من فاصله داری. اینجا دما بالای ۴۰ درجه سانتی گراد است و من دارم میپزم. تقریبا هیچ چیزی از من نمانده و حجم زیادی دارم تحمل میکنم.\n",
      "{'type': '', 'amount': 5, 'unit': 'کیلومتر با من', 'item': '', 'marker': '۵ کیلومتر با من', 'span': (17, 32)}\n",
      "{'type': '', 'amount': 40, 'unit': 'درجه سانتی گراد است و من دارم میپزم. تقریبا هیچ چیزی از من', 'item': '', 'marker': '۴۰ درجه سانتی گراد است و من دارم میپزم. تقریبا هیچ چیزی از من', 'span': (61, 122)}\n",
      "{'type': 'حجم', 'amount': '', 'unit': '', 'item': '', 'marker': 'حجم زیادی', 'span': (132, 141)}\n",
      "علی با ۴۰ کیلو وزن دارد بار با این سنگینی که ۴۰ نیوتن-متر گشتاور دارد را به فرکانس ۳۲۲ هرتز میرساند.\n",
      "{'type': 'جرم', 'amount': 40, 'unit': 'کیلو', 'item': '', 'marker': '۴۰ کیلو', 'span': (7, 14)}\n",
      "{'type': 'گشتاور', 'amount': 40, 'unit': 'نیوتن-متر', 'item': '', 'marker': '۴۰ نیوتن-متر', 'span': (45, 57)}\n",
      "{'type': 'فرکانس', 'amount': 322, 'unit': 'هرتز', 'item': '', 'marker': 'فرکانس ۳۲۲ هرتز', 'span': (76, 91)}\n",
      "من زاویه نمیگیرم ولی زاویه های بالای نود درجه رو دوست دارم.\n",
      "{'type': 'زاویه', 'amount': 90, 'unit': 'درجه', 'item': '', 'marker': 'نود درجه', 'span': (37, 45)}\n",
      "۴۰ گیگابایت فیلم نابی دارم اگر خواستی حتما بگو\n",
      "{'type': 'داده', 'amount': 40, 'unit': 'گیگابایت', 'item': 'فیلم', 'marker': '۴۰ گیگابایت فیلم', 'span': (0, 16)}\n",
      "۴۰ تن بر ثانیه شاریدم ولی متاسفانه کافی نبود و باز هم نود و نه تن بر مترمکعب کم اوردم.\n",
      "{'type': 'شارش جرم', 'amount': 40, 'unit': 'تن بر ثانیه', 'item': '', 'marker': '۴۰ تن بر ثانیه', 'span': (0, 14)}\n",
      "{'type': 'چگالی', 'amount': 99, 'unit': 'تن بر مترمکعب', 'item': '', 'marker': 'نود و نه تن بر مترمکعب', 'span': (54, 76)}\n",
      "ژول ورن خودش میدونست که ژول اسم خوبی نیست ولی باز هم نود ژول مصرف کرد تا بگه آره.\n",
      "{'type': 'گشتاور', 'amount': 90, 'unit': 'ژول', 'item': 'مصرف', 'marker': 'نود ژول مصرف', 'span': (53, 65)}\n",
      "صدای من را از موج 40 Hz میشنوید ولی سرعت من را با نود km\/s دارید.\n",
      "{'type': 'فرکانس', 'amount': 40, 'unit': 'Hz', 'item': '', 'marker': '40 Hz', 'span': (18, 23)}\n",
      "{'type': 'سرعت', 'amount': 90, 'unit': 'km\/s', 'item': '', 'marker': 'نود km\/s', 'span': (50, 58)}\n",
      "سرعت نت ۴۰ گیگابیت بر ثانیه است که خیلی هم بد نیست برای یک خونه با گشتاور هشتاد فوت پندال\n",
      "{'type': 'نرخ انتقال', 'amount': 40, 'unit': 'گیگابیت بر ثانیه', 'item': 'نت', 'marker': 'سرعت نت ۴۰ گیگابیت بر ثانیه', 'span': (0, 27)}\n",
      "{'type': 'طول', 'amount': 80, 'unit': 'فوت', 'item': '', 'marker': 'گشتاور هشتاد فوت', 'span': (67, 83)}\n",
      "یکی دیگه از چیز هایی که حائز اهمیت است، دیدن و داشتن قدرت زیاد است که 50km\/min هم نمیتواند گشتاور بالای ۱۰ ارگ را تحمل کند.\n",
      "{'type': 'توان', 'amount': '', 'unit': '', 'item': '', 'marker': 'قدرت زیاد', 'span': (53, 62)}\n",
      "{'type': 'سرعت', 'amount': 50, 'unit': 'km\/min', 'item': '', 'marker': '50km\/min', 'span': (70, 78)}\n",
      "{'type': 'گشتاور', 'amount': 10, 'unit': 'ارگ', 'item': '', 'marker': '۱۰ ارگ', 'span': (104, 110)}\n",
      "\n"
     ],
     "output_type":"stream"
    }
   ],
   "metadata":{
    "datalore":{
     "type":"CODE",
     "hide_input_from_viewers":false,
     "hide_output_from_viewers":false
    }
   }
  },
  {
   "cell_type":"markdown",
   "source":[
    "<div dir=\"rtl\">\n",
    "\n",
    "# بخش امتیازی: تبدیل واحد\n",
    "\n",
    "با توجه به درختی که در قسمت قبل ساخته شده، میتوان به راحتی تبدیل واحد را نیز انجام داد. در این قسمت این قسمت را پیاده سازی و تست میکنیم. تابع نهایی به صورت\n",
    "```run_conver(value, source, destination)```\n",
    "است که آرگمان‌ها به ترتیب بیانگر مقدار برای تبدیل، واحد مبدا و واحد مقصد میباشند که دو ورودی آخر از جنس استرینگ میباشند. فرض شده که دو واحد ورودی به هم قابل تبدیل هستند.\n",
    "\n",
    "این تابع نیز از دو بخش تشکیل شده. نخست واحدها تجزیه و تحلیل میشوند، سپس با تبدیل آنها به واحد\n",
    "SI\n",
    "تبدیل آنها صورت میگیرد.\n",
    "\n",
    "<\/div>"
   ],
   "attachments":{
    
   },
   "metadata":{
    "datalore":{
     "type":"MD",
     "hide_input_from_viewers":false,
     "hide_output_from_viewers":false
    }
   }
  },
  {
   "cell_type":"code",
   "source":[
    "# pipeline for analyzing units\n",
    "unit_determiner_pipeline = SpeechTagsPipeline([\n",
    "    get_number_tags_pipe,\n",
    "    get_quantity_name_tags_pipe,\n",
    "    get_simple_unit_tags_on_names_pipe,\n",
    "    get_simple_unit_tags_on_symbols_pipe,\n",
    "    get_si_prefix_tags_on_names_pipe,\n",
    "    get_si_prefix_tags_on_symbols_pipe,\n",
    "    get_order_modifier_tags_pipe,\n",
    "    get_unit_compounder_preposition_tags_pipe,\n",
    "    speech_tags_sorter_pipe,\n",
    "    get_prefixed_units_pipe,\n",
    "    get_ordered_units_pipe,\n",
    "    get_units_pipe,\n",
    "    filter_non_units,\n",
    "])"
   ],
   "execution_count":32,
   "outputs":[
    
   ],
   "metadata":{
    "datalore":{
     "type":"CODE",
     "hide_input_from_viewers":false,
     "hide_output_from_viewers":false
    }
   }
  },
  {
   "cell_type":"code",
   "source":[
    "def run_convert(val, source, destination):\n",
    "    src_unit = unit_determiner_pipeline.run(source)[0]\n",
    "    dst_unit = unit_determiner_pipeline.run(destination)[0]\n",
    "    return convert(val, src_unit, dst_unit)"
   ],
   "execution_count":33,
   "outputs":[
    
   ],
   "metadata":{
    "datalore":{
     "type":"CODE",
     "hide_input_from_viewers":false,
     "hide_output_from_viewers":false
    }
   }
  },
  {
   "cell_type":"code",
   "source":[
    "# Just to Show\n",
    "[\n",
    "    run_convert(1, 'کیلوگرم',\n",
    "                'پیکوگرم'),\n",
    "    run_convert(1, 'متر مربع',\n",
    "                'هکتار'),\n",
    "    run_convert(1, 'اتمسفر',\n",
    "                'پاسکال'),\n",
    "    run_convert(1, 'سال نوری',\n",
    "                'متر'),\n",
    "]"
   ],
   "execution_count":37,
   "outputs":[
    {
     "data":{
      "text\/plain":[
       "[1000000000000000.0, 0.0001, 101325.0, 9460000000000000.0]"
      ]
     },
     "metadata":{
      
     },
     "output_type":"display_data"
    }
   ],
   "metadata":{
    "datalore":{
     "type":"CODE",
     "hide_input_from_viewers":false,
     "hide_output_from_viewers":false
    }
   }
  }
 ],
 "metadata":{
  "datalore":{
   "version":1,
   "computation_mode":"JUPYTER",
   "package_manager":"pip",
   "base_environment":"default",
   "packages":[
    
   ]
  }
 },
 "nbformat":4,
 "nbformat_minor":4
}